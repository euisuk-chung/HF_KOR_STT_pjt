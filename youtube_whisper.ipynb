{
 "cells": [
  {
   "cell_type": "code",
   "execution_count": 1,
   "metadata": {},
   "outputs": [],
   "source": [
    "# Step 1: Install Dependencies (this may take about 2-3 min)\n",
    "\n",
    "# !pip install -q git+https://github.com/openai/whisper.git\n",
    "# !pip install yt-dlp\n",
    "\n",
    "import os, re\n",
    "import torch\n",
    "from pathlib import Path\n",
    "import whisper\n",
    "from whisper.utils import get_writer\n",
    "from yt_dlp import YoutubeDL\n"
   ]
  },
  {
   "cell_type": "markdown",
   "metadata": {},
   "source": [
    "## WhisperAI STT"
   ]
  },
  {
   "cell_type": "code",
   "execution_count": 8,
   "metadata": {},
   "outputs": [],
   "source": [
    "from pathlib import Path\n",
    "import torch\n",
    "import whisper\n",
    "from whisper.utils import get_writer\n",
    "\n",
    "# Transcribe the audio data with Whisper\n",
    "def transcribe_audio(audio_dir=\"./contents\", output_dir=\"./outputs\", output_formats=[\"txt\", \"srt\"], \n",
    "                     mode=\"youtube\", whisper_model = \"base\", if_Colab=False):\n",
    "    \n",
    "    device = \"cuda\" if torch.cuda.is_available() else \"cpu\"\n",
    "    model = whisper.load_model(whisper_model).to(device)\n",
    "\n",
    "    # Ensure the audio_dir and output_dir exist, create them if they don't\n",
    "    audio_dir = Path(audio_dir)\n",
    "    audio_dir.mkdir(parents=True, exist_ok=True)\n",
    "    \n",
    "    output_dir = Path(output_dir)\n",
    "    output_dir.mkdir(parents=True, exist_ok=True)\n",
    "\n",
    "    if mode == \"youtube\":\n",
    "        YouTube_URL = input(\"Enter YouTube_URL\")  # @param {type:\"string\"}\n",
    "\n",
    "        def download_audio_from_youtube(url, file_name=None, out_dir=audio_dir):\n",
    "            print(f\"\\n==> Downloading audio with yt-dlp...\")\n",
    "            ydl_opts = {\n",
    "                'format': 'bestaudio/best',\n",
    "                'outtmpl': f\"{out_dir}/{file_name if file_name else '%(title)s.%(ext)s'}\",\n",
    "                'postprocessors': [{\n",
    "                    'key': 'FFmpegExtractAudio',\n",
    "                    'preferredcodec': 'mp3',\n",
    "                    'preferredquality': '192',\n",
    "                }],\n",
    "            }\n",
    "            with YoutubeDL(ydl_opts) as ydl:\n",
    "                ydl.download([url])\n",
    "                info_dict = ydl.extract_info(url, download=False)\n",
    "                file_path = ydl.prepare_filename(info_dict)\n",
    "                mp3_file_path = Path(file_path).with_suffix('.mp3')\n",
    "            \n",
    "            print(f\"File downloaded to {mp3_file_path}!\")\n",
    "            return str(mp3_file_path)\n",
    "\n",
    "        audio = download_audio_from_youtube(YouTube_URL)\n",
    "        print(\"\\n=======================\")\n",
    "        print(f\"\\n🔗 YouTube URL: {YouTube_URL}\")\n",
    "        print(f\"\\n🤖 Whisper Model: {whisper_model}\")\n",
    "        print(\"\\n=======================\")\n",
    "        \n",
    "    elif mode == \"local\":\n",
    "        mp3_files = list(audio_dir.glob(\"*.mp3\"))\n",
    "        \n",
    "        if len(mp3_files) == 0:\n",
    "            raise FileNotFoundError(f\"No .mp3 files found in the directory: {output_dir}\")\n",
    "        elif len(mp3_files) > 1:\n",
    "            raise FileExistsError(f\"Multiple .mp3 files found in the directory: {output_dir}. Please specify the file to use.\")\n",
    "        \n",
    "        audio = mp3_files[0]\n",
    "        print(\"\\n=======================\")\n",
    "        print(f\"\\n🔗 Audio Path: {audio}\")\n",
    "        print(f\"\\n🤖 Whisper Model: {whisper_model}\")\n",
    "        print(\"\\n=======================\")\n",
    "    else:\n",
    "        raise ValueError(\"Invalid mode. Please select either 'youtube' or 'local'.\")\n",
    "    \n",
    "    file_path = Path(audio)  # Convert to Path object\n",
    "\n",
    "    print(f\"\\n==> Transcribing audio\")\n",
    "    result = model.transcribe(str(file_path), verbose=False)\n",
    "\n",
    "    # Save the transcription in the requested formats\n",
    "    for format in output_formats:\n",
    "        print(f\"\\n==> Creating .{format} file\")\n",
    "        writer = get_writer(format, output_dir)\n",
    "        writer(result, str(file_path.stem))\n",
    "        \n",
    "        output_file_path = output_dir / f\"{file_path.stem}.{format}\"\n",
    "        if if_Colab:\n",
    "            from google.colab import files\n",
    "            files.download(str(output_file_path))\n",
    "        else:\n",
    "            print(f\"Transcription saved as .{format} file at: {output_file_path}\")\n",
    "\n",
    "    print(\"\\n✨ All Done!\")\n",
    "    print(\"=======================\")\n",
    "    return result\n"
   ]
  },
  {
   "cell_type": "markdown",
   "metadata": {},
   "source": [
    "### 로컬 예제"
   ]
  },
  {
   "cell_type": "code",
   "execution_count": 9,
   "metadata": {},
   "outputs": [
    {
     "name": "stdout",
     "output_type": "stream",
     "text": [
      "\n",
      "=======================\n",
      "\n",
      "🔗 Audio Path: contents\\sample_sound.mp3\n",
      "\n",
      "🤖 Whisper Model: base\n",
      "\n",
      "=======================\n",
      "\n",
      "==> Transcribing audio\n",
      "Detected language: Korean\n"
     ]
    },
    {
     "name": "stderr",
     "output_type": "stream",
     "text": [
      "100%|██████████| 224/224 [00:00<00:00, 1364.62frames/s]"
     ]
    },
    {
     "name": "stdout",
     "output_type": "stream",
     "text": [
      "\n",
      "==> Creating .txt file\n",
      "Transcription saved as .txt file at: outputs\\sample_sound.txt\n",
      "\n",
      "✨ All Done!\n",
      "=======================\n"
     ]
    },
    {
     "name": "stderr",
     "output_type": "stream",
     "text": [
      "\n"
     ]
    }
   ],
   "source": [
    "result = transcribe_audio(mode=\"local\", output_formats=[\"txt\"])"
   ]
  },
  {
   "cell_type": "markdown",
   "metadata": {},
   "source": [
    "## Youtube 예제"
   ]
  },
  {
   "cell_type": "code",
   "execution_count": 10,
   "metadata": {},
   "outputs": [
    {
     "name": "stdout",
     "output_type": "stream",
     "text": [
      "\n",
      "==> Downloading audio with yt-dlp...\n",
      "[youtube] Extracting URL: https://youtu.be/GEYxeMYMtE4\n",
      "[youtube] GEYxeMYMtE4: Downloading webpage\n",
      "[youtube] GEYxeMYMtE4: Downloading ios player API JSON\n",
      "[youtube] GEYxeMYMtE4: Downloading web creator player API JSON\n",
      "[youtube] GEYxeMYMtE4: Downloading player 57c75fa4\n",
      "[youtube] GEYxeMYMtE4: Downloading m3u8 information\n",
      "[info] GEYxeMYMtE4: Downloading 1 format(s): 251\n",
      "[download] Destination: outputs\\[시계열] Ch1. 데이터와 인공지능, 그리고 데이터 분석이란？.webm\n",
      "[download] 100% of   16.03MiB in 00:00:06 at 2.43MiB/s   \n",
      "[ExtractAudio] Destination: outputs\\[시계열] Ch1. 데이터와 인공지능, 그리고 데이터 분석이란？.mp3\n",
      "Deleting original file outputs\\[시계열] Ch1. 데이터와 인공지능, 그리고 데이터 분석이란？.webm (pass -k to keep)\n",
      "[youtube] Extracting URL: https://youtu.be/GEYxeMYMtE4\n",
      "[youtube] GEYxeMYMtE4: Downloading webpage\n",
      "[youtube] GEYxeMYMtE4: Downloading ios player API JSON\n",
      "[youtube] GEYxeMYMtE4: Downloading web creator player API JSON\n",
      "[youtube] GEYxeMYMtE4: Downloading m3u8 information\n",
      "File downloaded to outputs\\[시계열] Ch1. 데이터와 인공지능, 그리고 데이터 분석이란？.mp3!\n",
      "\n",
      "=======================\n",
      "\n",
      "🔗 YouTube URL: https://youtu.be/GEYxeMYMtE4\n",
      "\n",
      "🤖 Whisper Model: base\n",
      "\n",
      "=======================\n",
      "\n",
      "==> Transcribing audio\n",
      "Detected language: Korean\n"
     ]
    },
    {
     "name": "stderr",
     "output_type": "stream",
     "text": [
      "100%|██████████| 125648/125648 [01:19<00:00, 1570.74frames/s]"
     ]
    },
    {
     "name": "stdout",
     "output_type": "stream",
     "text": [
      "\n",
      "==> Creating .txt file\n",
      "Transcription saved as .txt file at: outputs\\[시계열] Ch1. 데이터와 인공지능, 그리고 데이터 분석이란？.txt\n",
      "\n",
      "✨ All Done!\n",
      "=======================\n"
     ]
    },
    {
     "name": "stderr",
     "output_type": "stream",
     "text": [
      "\n"
     ]
    }
   ],
   "source": [
    "result = transcribe_audio(mode=\"youtube\", output_formats=[\"txt\"])"
   ]
  },
  {
   "cell_type": "code",
   "execution_count": null,
   "metadata": {},
   "outputs": [],
   "source": []
  }
 ],
 "metadata": {
  "kernelspec": {
   "display_name": "HF_KOR_STT_pjt-LslUj6mJ",
   "language": "python",
   "name": "python3"
  },
  "language_info": {
   "codemirror_mode": {
    "name": "ipython",
    "version": 3
   },
   "file_extension": ".py",
   "mimetype": "text/x-python",
   "name": "python",
   "nbconvert_exporter": "python",
   "pygments_lexer": "ipython3",
   "version": "3.10.11"
  }
 },
 "nbformat": 4,
 "nbformat_minor": 2
}
